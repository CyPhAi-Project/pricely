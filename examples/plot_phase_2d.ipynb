{
 "cells": [
  {
   "cell_type": "code",
   "execution_count": null,
   "metadata": {},
   "outputs": [],
   "source": [
    "from matplotlib.patches import Circle\n",
    "import numpy as np\n",
    "\n",
    "from phaseportrait import PhasePortrait2D\n",
    "\n",
    "from plot_utils_2d import add_level_sets\n",
    "\n",
    "import neurips2022_van_der_pol as mod\n",
    "# import neurips2022_unicycle_following as mod\n",
    "# import neurips2022_inverted_pendulum as mod \n",
    "\n",
    "def f_2d(x0, x1):\n",
    "    x = np.array([[x0, x1]])\n",
    "    dx = mod.f_bbox(x).squeeze()\n",
    "    return dx[0], dx[1]\n",
    "\n",
    "XLIM = mod.X_NORM_UB*1.25\n",
    "Plot2D = PhasePortrait2D(f_2d, [[-XLIM, XLIM], [-XLIM, XLIM]], Title=\"\", MeshDim=9, xlabel=r\"\", ylabel=r\"\", color=\"binary_r\", odeint_method=\"euler\")\n",
    "fig, ax = Plot2D.plot()\n",
    "ax.grid(False)\n",
    "ax.set_aspect(\"equal\")\n",
    "\n",
    "for r in [mod.X_NORM_UB]:\n",
    "    ax.add_patch(Circle((0, 0), r, color='r', fill=False))\n",
    "    t = ax.text(r*np.cos(-2*np.pi/4), r*np.sin(-2*np.pi/4), f\"{r}\", horizontalalignment='center', verticalalignment='center')\n",
    "ax.add_patch(Circle((0, 0), mod.X_NORM_LB, color='r', fill=False))\n",
    "\n",
    "angs = np.linspace(0, 2*np.pi, 1000)\n",
    "x_values = mod.X_NORM_UB*np.column_stack((np.cos(angs), np.sin(angs)))\n",
    "level_ub = np.min(mod.nnet_lya(x_values))\n",
    "add_level_sets(ax, mod.nnet_lya, level_ub, colors=\"g\", linestyles=\"dashed\")\n",
    "\n",
    "level_ub = np.min(mod.quad_lya(x_values))\n",
    "add_level_sets(ax, mod.quad_lya, level_ub, colors=\"b\", linestyles=\"solid\")"
   ]
  },
  {
   "cell_type": "markdown",
   "metadata": {},
   "source": []
  }
 ],
 "metadata": {
  "kernelspec": {
   "display_name": "pricely",
   "language": "python",
   "name": "python3"
  },
  "language_info": {
   "codemirror_mode": {
    "name": "ipython",
    "version": 3
   },
   "file_extension": ".py",
   "mimetype": "text/x-python",
   "name": "python",
   "nbconvert_exporter": "python",
   "pygments_lexer": "ipython3",
   "version": "3.8.19"
  }
 },
 "nbformat": 4,
 "nbformat_minor": 2
}
